{
 "cells": [
  {
   "cell_type": "code",
   "execution_count": 37,
   "id": "c08f3805-bd49-4e66-bf9d-86fd8c9037e6",
   "metadata": {},
   "outputs": [],
   "source": [
    "from ultralytics import YOLO\n",
    "import cv2\n",
    "import time\n",
    "import torch\n",
    "import pygame  # Import pygame for sound playback"
   ]
  },
  {
   "cell_type": "code",
   "execution_count": 39,
   "id": "849d9f97-635f-4fd9-8a5b-9cefcec18232",
   "metadata": {},
   "outputs": [
    {
     "name": "stdout",
     "output_type": "stream",
     "text": [
      "True\n",
      "0\n",
      "NVIDIA GeForce RTX 2070 Super\n"
     ]
    }
   ],
   "source": [
    "# Checking if CUDA is available\n",
    "print(torch.cuda.is_available())  # Should return True if CUDA is available\n",
    "\n",
    "# Get the current device\n",
    "print(torch.cuda.current_device())  # Returns the current GPU device ID\n",
    "\n",
    "# Getting the name of the GPU\n",
    "print(torch.cuda.get_device_name(0))  "
   ]
  },
  {
   "cell_type": "markdown",
   "id": "86309ffc-07b8-4751-968f-13f49de8f638",
   "metadata": {},
   "source": [
    "## Yolov11 Custom trained Drowsiness Detection Model"
   ]
  },
  {
   "cell_type": "code",
   "execution_count": 28,
   "id": "415b065b-d1f3-4e94-b68c-1011628925ab",
   "metadata": {},
   "outputs": [],
   "source": [
    "# Loading the custom YOLOv11 model\n",
    "model = YOLO(\"C:/Users/MAM/Downloads/best (9).pt\")"
   ]
  },
  {
   "cell_type": "code",
   "execution_count": 35,
   "id": "0cd23b05-6eee-445b-b4ba-4942b936b3e2",
   "metadata": {},
   "outputs": [
    {
     "name": "stdout",
     "output_type": "stream",
     "text": [
      "Model is running on GPU: NVIDIA GeForce RTX 2070 Super\n"
     ]
    }
   ],
   "source": [
    "# Check if CUDA is available and transfer the model to GPU\n",
    "if torch.cuda.is_available():\n",
    "    device = torch.device('cuda')  # Use GPU\n",
    "    model.to(device)  # Transfer the model to the GPU\n",
    "    print(\"Model is running on GPU:\", torch.cuda.get_device_name(0))\n",
    "else:\n",
    "    device = torch.device('cpu')  # Use CPU\n",
    "    print(\"CUDA not available. Running on CPU.\")"
   ]
  },
  {
   "cell_type": "markdown",
   "id": "22f540d9-c0c8-40e8-a10a-50c65bd1af92",
   "metadata": {},
   "source": [
    "## Real-Time Detection"
   ]
  },
  {
   "cell_type": "code",
   "execution_count": null,
   "id": "28bf608c-37b9-48d7-b4d0-c0683af7b5aa",
   "metadata": {},
   "outputs": [],
   "source": [
    "import time\n",
    "import cv2\n",
    "import pygame  # Import pygame for sound playback\n",
    "\n",
    "# Initialize pygame for sound playback\n",
    "pygame.mixer.init()\n",
    "\n",
    "# Initialize variables to track drowsiness detection time\n",
    "drowsy_start_time = None\n",
    "drowsy_duration = 0\n",
    "alarm_duration_threshold = 3  # Set the threshold to 3 seconds\n",
    "\n",
    "# Path to the downloaded alarm sound file\n",
    "alarm_sound_path = r\"C:\\Users\\MAM\\Downloads\\714404__vyclops__burglar-alarm-siren-long-alert-warning-sound.mp3\"\n",
    "\n",
    "# Load the alarm sound into pygame's mixer\n",
    "alarm_sound = pygame.mixer.Sound(alarm_sound_path)\n",
    "\n",
    "# Variables for blinking \"WAKE UP!\"\n",
    "text_visible = True  # Track if the text is currently visible\n",
    "text_blink_interval = 0.3  # Interval for blinking (0.5 seconds)\n",
    "last_blink_time = time.time()  # Time when the text was last toggled\n",
    "\n",
    "# Start the video feed from the webcam\n",
    "results = model(source=0, stream=True, conf=0.5)\n",
    "\n",
    "# Process each frame in the video feed\n",
    "for result in results:\n",
    "    frame = result.orig_img  # Get the original frame (image)\n",
    "\n",
    "    # Get class names from the model\n",
    "    class_names = model.names  # List of class names (e.g., [\"alert\", \"drowsy\"])\n",
    "\n",
    "    drowsy_detected = False  # Flag to check if drowsy is detected in the current frame\n",
    "\n",
    "    # Loop through each detected box in the current frame\n",
    "    for box in result.boxes:\n",
    "        # Get class ID and confidence score\n",
    "        class_id = int(box.cls[0])\n",
    "        confidence = box.conf[0]\n",
    "\n",
    "        # Get the label from class ID\n",
    "        label = class_names[class_id]\n",
    "\n",
    "        # Get bounding box coordinates\n",
    "        x1, y1, x2, y2 = map(int, box.xyxy[0])\n",
    "\n",
    "        # Set bounding box color: red for \"drowsy\", green for others\n",
    "        if label.lower() == \"drowsy\":\n",
    "            color = (0, 0, 255)  # Red (BGR format in OpenCV)\n",
    "            drowsy_detected = True\n",
    "        else:\n",
    "            color = (0, 255, 0)  # Green (BGR format in OpenCV)\n",
    "\n",
    "        # Draw bounding box and label on the frame\n",
    "        cv2.rectangle(frame, (x1, y1), (x2, y2), color, 2)\n",
    "        cv2.putText(frame, f'{label} {confidence:.2f}', (x1, y1 - 10), cv2.FONT_HERSHEY_SIMPLEX, 0.9, color, 2)\n",
    "\n",
    "    # Check if drowsiness is detected across frames\n",
    "    if drowsy_detected:\n",
    "        if drowsy_start_time is None:\n",
    "            drowsy_start_time = time.time()  # Start tracking time when drowsiness is first detected\n",
    "        else:\n",
    "            drowsy_duration = time.time() - drowsy_start_time  # Calculate how long drowsiness has been detected\n",
    "\n",
    "        # If drowsiness is detected for more than 3 seconds, trigger the alarm\n",
    "        if drowsy_duration >= alarm_duration_threshold:\n",
    "            print(\"ALARM! Drowsiness detected for more than 3 seconds.\")\n",
    "            if not pygame.mixer.get_busy():  # Check if sound is already playing\n",
    "                alarm_sound.play()  # Play the alarm sound asynchronously\n",
    "\n",
    "            # Blinking \"WAKE UP!\" message logic\n",
    "            current_time = time.time()\n",
    "            if current_time - last_blink_time >= text_blink_interval:\n",
    "                text_visible = not text_visible  # Toggle text visibility\n",
    "                last_blink_time = current_time  # Reset blink timer\n",
    "\n",
    "            # Show \"WAKE UP!\" message if text is visible\n",
    "            if text_visible:\n",
    "                cv2.putText(frame, \"WAKE UP!\", (50, 50), cv2.FONT_HERSHEY_SIMPLEX, 2, (0, 0, 255), 3, cv2.LINE_AA)\n",
    "    else:\n",
    "        # Reset if drowsiness is not detected and stop the alarm\n",
    "        if pygame.mixer.get_busy():\n",
    "            alarm_sound.stop()  # Stop the alarm if it's currently playing\n",
    "\n",
    "        drowsy_start_time = None\n",
    "        drowsy_duration = 0\n",
    "        text_visible = True  # Reset text visibility for next time\n",
    "\n",
    "    # Show the frame with bounding boxes and labels\n",
    "    cv2.imshow(\"Drowsiness Detection\", frame)\n",
    "\n",
    "    # Break the loop if 'q' is pressed\n",
    "    if cv2.waitKey(1) & 0xFF == ord('q'):\n",
    "        break\n",
    "\n",
    "# Release any OpenCV windowsq\n",
    "cv2.destroyAllWindows()"
   ]
  }
 ],
 "metadata": {
  "kernelspec": {
   "display_name": "Python 3.12",
   "language": "python",
   "name": "python312"
  },
  "language_info": {
   "codemirror_mode": {
    "name": "ipython",
    "version": 3
   },
   "file_extension": ".py",
   "mimetype": "text/x-python",
   "name": "python",
   "nbconvert_exporter": "python",
   "pygments_lexer": "ipython3",
   "version": "3.12.5"
  }
 },
 "nbformat": 4,
 "nbformat_minor": 5
}
